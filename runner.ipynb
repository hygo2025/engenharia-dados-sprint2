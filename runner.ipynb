{
 "cells": [
  {
   "cell_type": "code",
   "id": "initial_id",
   "metadata": {
    "collapsed": true,
    "ExecuteTime": {
     "end_time": "2024-07-04T20:05:11.407234Z",
     "start_time": "2024-07-04T20:05:05.424519Z"
    }
   },
   "source": [
    "!pip install pandas\n",
    "!pip install requests\n",
    "!pip install beautifulsoup4"
   ],
   "outputs": [
    {
     "name": "stdout",
     "output_type": "stream",
     "text": [
      "Requirement already satisfied: pandas in /home/hygo/anaconda3/lib/python3.11/site-packages (2.2.2)\r\n",
      "Requirement already satisfied: numpy>=1.23.2 in /home/hygo/anaconda3/lib/python3.11/site-packages (from pandas) (1.26.4)\r\n",
      "Requirement already satisfied: python-dateutil>=2.8.2 in /home/hygo/anaconda3/lib/python3.11/site-packages (from pandas) (2.8.2)\r\n",
      "Requirement already satisfied: pytz>=2020.1 in /home/hygo/anaconda3/lib/python3.11/site-packages (from pandas) (2023.3.post1)\r\n",
      "Requirement already satisfied: tzdata>=2022.7 in /home/hygo/anaconda3/lib/python3.11/site-packages (from pandas) (2023.3)\r\n",
      "Requirement already satisfied: six>=1.5 in /home/hygo/anaconda3/lib/python3.11/site-packages (from python-dateutil>=2.8.2->pandas) (1.16.0)\r\n",
      "Requirement already satisfied: requests in /home/hygo/anaconda3/lib/python3.11/site-packages (2.31.0)\r\n",
      "Requirement already satisfied: charset-normalizer<4,>=2 in /home/hygo/anaconda3/lib/python3.11/site-packages (from requests) (2.0.4)\r\n",
      "Requirement already satisfied: idna<4,>=2.5 in /home/hygo/anaconda3/lib/python3.11/site-packages (from requests) (3.4)\r\n",
      "Requirement already satisfied: urllib3<3,>=1.21.1 in /home/hygo/anaconda3/lib/python3.11/site-packages (from requests) (2.0.7)\r\n",
      "Requirement already satisfied: certifi>=2017.4.17 in /home/hygo/anaconda3/lib/python3.11/site-packages (from requests) (2024.6.2)\r\n",
      "Requirement already satisfied: beautifulsoup4 in /home/hygo/anaconda3/lib/python3.11/site-packages (4.12.2)\r\n",
      "Requirement already satisfied: soupsieve>1.2 in /home/hygo/anaconda3/lib/python3.11/site-packages (from beautifulsoup4) (2.5)\r\n"
     ]
    }
   ],
   "execution_count": 1
  },
  {
   "metadata": {
    "ExecuteTime": {
     "end_time": "2024-07-04T20:06:49.878595Z",
     "start_time": "2024-07-04T20:06:49.581208Z"
    }
   },
   "cell_type": "code",
   "source": [
    "# Import scripts\n",
    "from data_scraper.age_scraper import AgeScraper\n",
    "from data_scraper.price_scraper import PriceScraper\n",
    "from data_scraper.round_scraper import RoundScraper\n",
    "from data_scraper.home_away_scraper import HomeAwayScraper"
   ],
   "id": "6fc28ca1802cdf3c",
   "outputs": [],
   "execution_count": 2
  },
  {
   "metadata": {
    "ExecuteTime": {
     "end_time": "2024-07-04T20:06:50.631161Z",
     "start_time": "2024-07-04T20:06:50.628877Z"
    }
   },
   "cell_type": "code",
   "source": [
    "rounds_per_season = {2024: 13}\n",
    "start_year = 2006\n",
    "end_year = 2024\n",
    "force_update_years = []"
   ],
   "id": "3375962b3afb2674",
   "outputs": [],
   "execution_count": 3
  },
  {
   "metadata": {
    "ExecuteTime": {
     "end_time": "2024-07-04T20:06:57.580032Z",
     "start_time": "2024-07-04T20:06:51.638313Z"
    }
   },
   "cell_type": "code",
   "source": [
    "# Coleta e salva dados de idade\n",
    "age_scraper = AgeScraper(start_year, end_year, force_update_years)\n",
    "age_scraper.collect_and_save_data()"
   ],
   "id": "1e795ca2b015240a",
   "outputs": [
    {
     "name": "stdout",
     "output_type": "stream",
     "text": [
      "Fetching data from https://www.transfermarkt.com.br/campeonato-brasileiro-serie-a/altersschnitt/wettbewerb/BRA1/saison_id/2006/plus/1\n",
      "Data saved to ./data/age/age_2006.csv\n"
     ]
    }
   ],
   "execution_count": 4
  },
  {
   "metadata": {
    "ExecuteTime": {
     "end_time": "2024-07-04T19:58:04.615301Z",
     "start_time": "2024-07-04T19:58:04.599461Z"
    }
   },
   "cell_type": "code",
   "source": [
    "# Coleta e salva dados de preço\n",
    "price_scraper = PriceScraper(start_year, end_year, force_update_years)\n",
    "price_scraper.collect_and_save_data()"
   ],
   "id": "56a25562aa3c8eea",
   "outputs": [],
   "execution_count": 5
  },
  {
   "metadata": {},
   "cell_type": "code",
   "outputs": [],
   "execution_count": null,
   "source": [
    "# Coleta e salva dados de rodadas\n",
    "round_scraper = RoundScraper(start_year, end_year, force_update_years, rounds_per_season)\n",
    "round_scraper.collect_and_save_data()"
   ],
   "id": "a8fccbe7de9a636d"
  },
  {
   "metadata": {},
   "cell_type": "code",
   "outputs": [],
   "execution_count": null,
   "source": [
    "# Coleta e salva dados de jogos dentro e fora\n",
    "home_away_scraper = HomeAwayScraper(start_year, end_year, force_update_years, rounds_per_season)\n",
    "home_away_scraper.collect_and_save_data()"
   ],
   "id": "bbddd5581728f403"
  }
 ],
 "metadata": {
  "kernelspec": {
   "display_name": "Python 3",
   "language": "python",
   "name": "python3"
  },
  "language_info": {
   "codemirror_mode": {
    "name": "ipython",
    "version": 2
   },
   "file_extension": ".py",
   "mimetype": "text/x-python",
   "name": "python",
   "nbconvert_exporter": "python",
   "pygments_lexer": "ipython2",
   "version": "2.7.6"
  }
 },
 "nbformat": 4,
 "nbformat_minor": 5
}
