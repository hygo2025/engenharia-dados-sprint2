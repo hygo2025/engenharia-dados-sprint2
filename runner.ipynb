{
 "cells": [
  {
   "cell_type": "code",
   "execution_count": 0,
   "metadata": {
    "ExecuteTime": {
     "end_time": "2024-07-04T20:05:11.407234Z",
     "start_time": "2024-07-04T20:05:05.424519Z"
    },
    "application/vnd.databricks.v1+cell": {
     "cellMetadata": {
      "byteLimit": 2048000,
      "rowLimit": 10000
     },
     "inputWidgets": {},
     "nuid": "5de57df2-ce64-46d9-bf10-46b595775e0b",
     "showTitle": false,
     "title": ""
    },
    "collapsed": true
   },
   "outputs": [],
   "source": [
    "!pip install pandas\n",
    "!pip install requests\n",
    "!pip install beautifulsoup4\n",
    "!pip install boto3\n",
    "!pip install botocore"
   ]
  },
  {
   "cell_type": "code",
   "execution_count": 0,
   "metadata": {
    "ExecuteTime": {
     "end_time": "2024-07-04T20:06:49.878595Z",
     "start_time": "2024-07-04T20:06:49.581208Z"
    },
    "application/vnd.databricks.v1+cell": {
     "cellMetadata": {
      "byteLimit": 2048000,
      "rowLimit": 10000
     },
     "inputWidgets": {},
     "nuid": "e4d47579-eaf6-4a88-8bbb-59bb48911ed8",
     "showTitle": false,
     "title": ""
    }
   },
   "outputs": [],
   "source": [
    "# Import scripts\n",
    "from data_scraper.age_scraper import AgeScraper\n",
    "from data_scraper.price_scraper import PriceScraper\n",
    "from data_scraper.round_scraper import RoundScraper\n",
    "from data_scraper.home_away_scraper import HomeAwayScraper\n",
    "from utils.utils import Utils"
   ]
  },
  {
   "cell_type": "code",
   "execution_count": 0,
   "metadata": {
    "ExecuteTime": {
     "end_time": "2024-07-04T20:06:50.631161Z",
     "start_time": "2024-07-04T20:06:50.628877Z"
    },
    "application/vnd.databricks.v1+cell": {
     "cellMetadata": {
      "byteLimit": 2048000,
      "rowLimit": 10000
     },
     "inputWidgets": {},
     "nuid": "89a1c8fc-63b2-4b77-9541-a1ad3dc7bf21",
     "showTitle": false,
     "title": ""
    }
   },
   "outputs": [],
   "source": [
    "rounds_per_season = {2024: 13}\n",
    "start_year = 2006\n",
    "end_year = 2024\n",
    "force_update_years = [2024]\n",
    "input_folder = \"data\"\n",
    "bucket = \"databricks-workspace-stack-4f961-bucket\"\n",
    "base_path = \"unity-catalog/2370156648242123\""
   ]
  },
  {
   "cell_type": "code",
   "execution_count": 0,
   "metadata": {
    "ExecuteTime": {
     "end_time": "2024-07-04T20:06:57.580032Z",
     "start_time": "2024-07-04T20:06:51.638313Z"
    },
    "application/vnd.databricks.v1+cell": {
     "cellMetadata": {
      "byteLimit": 2048000,
      "rowLimit": 10000
     },
     "inputWidgets": {},
     "nuid": "539f5464-2fe8-4028-af65-be0e30703b9a",
     "showTitle": false,
     "title": ""
    }
   },
   "outputs": [],
   "source": [
    "# Coleta e salva dados de idade\n",
    "age_scraper = AgeScraper(start_year, end_year, force_update_years)\n",
    "age_scraper.collect_and_save_data()\n",
    "\n",
    "Utils.upload_all_csv_files(input_folder, bucket, base_path, folder_name=\"age\")"
   ]
  },
  {
   "cell_type": "code",
   "execution_count": 0,
   "metadata": {
    "ExecuteTime": {
     "end_time": "2024-07-04T19:58:04.615301Z",
     "start_time": "2024-07-04T19:58:04.599461Z"
    },
    "application/vnd.databricks.v1+cell": {
     "cellMetadata": {},
     "inputWidgets": {},
     "nuid": "cefa2fe8-f630-464c-87b5-7500fb9fcf0f",
     "showTitle": false,
     "title": ""
    }
   },
   "outputs": [],
   "source": [
    "# Coleta e salva dados de preço\n",
    "price_scraper = PriceScraper(start_year, end_year, force_update_years)\n",
    "price_scraper.collect_and_save_data()\n",
    "\n",
    "Utils.upload_all_csv_files(input_folder, bucket, base_path, folder_name=\"price\")"
   ]
  },
  {
   "cell_type": "code",
   "execution_count": 0,
   "metadata": {
    "application/vnd.databricks.v1+cell": {
     "cellMetadata": {},
     "inputWidgets": {},
     "nuid": "6ebc55db-42cb-4bc2-b44a-61ab13d8807c",
     "showTitle": false,
     "title": ""
    }
   },
   "outputs": [],
   "source": [
    "# Coleta e salva dados de rodadas\n",
    "round_scraper = RoundScraper(start_year, end_year, force_update_years, rounds_per_season)\n",
    "round_scraper.collect_and_save_data()\n",
    "\n",
    "Utils.upload_all_csv_files(input_folder, bucket, base_path, folder_name=\"rounds\")"
   ]
  },
  {
   "cell_type": "code",
   "execution_count": 0,
   "metadata": {
    "application/vnd.databricks.v1+cell": {
     "cellMetadata": {},
     "inputWidgets": {},
     "nuid": "da1f11d2-6e7d-4668-8cec-a2b40c2c4ad8",
     "showTitle": false,
     "title": ""
    }
   },
   "outputs": [],
   "source": [
    "# Coleta e salva dados de jogos dentro e fora\n",
    "home_away_scraper = HomeAwayScraper(start_year, end_year, force_update_years, rounds_per_season)\n",
    "home_away_scraper.collect_and_save_data()\n",
    "\n",
    "Utils.upload_all_csv_files(input_folder, bucket, base_path, folder_name=\"home_away\")"
   ]
  },
  {
   "cell_type": "code",
   "execution_count": 0,
   "metadata": {
    "application/vnd.databricks.v1+cell": {
     "cellMetadata": {},
     "inputWidgets": {},
     "nuid": "875c9216-2f92-4881-964e-7ce0556f205b",
     "showTitle": false,
     "title": ""
    }
   },
   "outputs": [],
   "source": ""
  }
 ],
 "metadata": {
  "application/vnd.databricks.v1+notebook": {
   "dashboards": [],
   "environmentMetadata": null,
   "language": "python",
   "notebookMetadata": {
    "pythonIndentUnit": 4
   },
   "notebookName": "runner",
   "widgets": {}
  },
  "kernelspec": {
   "display_name": "Python 3",
   "language": "python",
   "name": "python3"
  },
  "language_info": {
   "codemirror_mode": {
    "name": "ipython",
    "version": 2
   },
   "file_extension": ".py",
   "mimetype": "text/x-python",
   "name": "python",
   "nbconvert_exporter": "python",
   "pygments_lexer": "ipython2",
   "version": "2.7.6"
  }
 },
 "nbformat": 4,
 "nbformat_minor": 0
}
